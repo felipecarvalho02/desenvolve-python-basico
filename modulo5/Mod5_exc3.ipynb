{
 "cells": [
  {
   "cell_type": "code",
   "execution_count": null,
   "id": "2e6c08c6-5313-4789-9464-6c010e069078",
   "metadata": {},
   "outputs": [
    {
     "name": "stdin",
     "output_type": "stream",
     "text": [
      "Adivinhe o número entre 1 e 10:  2\n"
     ]
    },
    {
     "name": "stdout",
     "output_type": "stream",
     "text": [
      "Muito baixo, digite outro numero: \n"
     ]
    }
   ],
   "source": [
    "import random\n",
    "\n",
    "numeroAleatorio = random.randint(1, 10)\n",
    "\n",
    "while True:\n",
    "    entradaUsuario = int(input(\"Adivinhe o número entre 1 e 10: \"))\n",
    "    \n",
    "    if entradaUsuario == numeroAleatorio:\n",
    "        print(\"Parabens, voce acertou!\")\n",
    "        break\n",
    "    elif entradaUsuario < numeroAleatorio:\n",
    "        print(\"Muito baixo, digite outro numero: \")\n",
    "    else:\n",
    "        print(\"Muito alto, digite outro numero:\")"
   ]
  },
  {
   "cell_type": "code",
   "execution_count": null,
   "id": "888d1336-220e-464c-bb42-0f3a76ba8191",
   "metadata": {},
   "outputs": [],
   "source": []
  }
 ],
 "metadata": {
  "kernelspec": {
   "display_name": "Python 3 (ipykernel)",
   "language": "python",
   "name": "python3"
  },
  "language_info": {
   "codemirror_mode": {
    "name": "ipython",
    "version": 3
   },
   "file_extension": ".py",
   "mimetype": "text/x-python",
   "name": "python",
   "nbconvert_exporter": "python",
   "pygments_lexer": "ipython3",
   "version": "3.11.7"
  }
 },
 "nbformat": 4,
 "nbformat_minor": 5
}
