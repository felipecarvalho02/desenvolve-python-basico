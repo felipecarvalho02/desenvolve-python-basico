{
 "cells": [
  {
   "cell_type": "markdown",
   "id": "2fd89009-7a8b-4644-9992-304a44ea4c75",
   "metadata": {},
   "source": [
    "Módulo 5 - Funções\r\n",
    "Aulas 5.2 - Funções Customizadas e 5.4 Funções lambda\r\n",
    "Q1.\r\n",
    "Sabendo que o código a seguir calcula o fatorial de n, escreva uma função chamada fatorial() que recebe um inteiro n como parâmetro e retorna o resultado do fatorial de n.\r\n",
    "No programa principal, peça ao usuário o valor de n, chame a sua função e imprima o retorno.\r\n",
    "fat = 1\r\n",
    "for i in range(1, n+1):\r\n",
    "    fat *= i"
   ]
  },
  {
   "cell_type": "code",
   "execution_count": null,
   "id": "ef9cdc49-5062-4408-8856-b83e28eb53f9",
   "metadata": {},
   "outputs": [],
   "source": [
    "def fatorial(n):\n",
    "    fat = 1\n",
    "    for i in range(1, n + 1):\n",
    "        fat *= i\n",
    "    return fat"
   ]
  },
  {
   "cell_type": "code",
   "execution_count": 1,
   "id": "c57d8201-3935-4e2a-bb04-9d012779eb4c",
   "metadata": {},
   "outputs": [
    {
     "name": "stdin",
     "output_type": "stream",
     "text": [
      "Digite um número para calcular o fatorial:  5\n"
     ]
    },
    {
     "ename": "NameError",
     "evalue": "name 'fatorial' is not defined",
     "output_type": "error",
     "traceback": [
      "\u001b[1;31m---------------------------------------------------------------------------\u001b[0m",
      "\u001b[1;31mNameError\u001b[0m                                 Traceback (most recent call last)",
      "Cell \u001b[1;32mIn[1], line 2\u001b[0m\n\u001b[0;32m      1\u001b[0m n \u001b[38;5;241m=\u001b[39m \u001b[38;5;28mint\u001b[39m(\u001b[38;5;28minput\u001b[39m(\u001b[38;5;124m\"\u001b[39m\u001b[38;5;124mDigite um número para calcular o fatorial: \u001b[39m\u001b[38;5;124m\"\u001b[39m))\n\u001b[1;32m----> 2\u001b[0m \u001b[38;5;28mprint\u001b[39m(\u001b[38;5;124mf\u001b[39m\u001b[38;5;124m\"\u001b[39m\u001b[38;5;124mO fatorial de \u001b[39m\u001b[38;5;132;01m{\u001b[39;00mn\u001b[38;5;132;01m}\u001b[39;00m\u001b[38;5;124m é \u001b[39m\u001b[38;5;132;01m{\u001b[39;00mfatorial(n)\u001b[38;5;132;01m}\u001b[39;00m\u001b[38;5;124m\"\u001b[39m)\n",
      "\u001b[1;31mNameError\u001b[0m: name 'fatorial' is not defined"
     ]
    }
   ],
   "source": [
    "n = int(input(\"Digite um número para calcular o fatorial: \"))\n",
    "print(f\"O fatorial de {n} é {fatorial(n)}\")"
   ]
  },
  {
   "cell_type": "markdown",
   "id": "a9d08fc0-23d8-4ae4-85b4-fc95677393bd",
   "metadata": {},
   "source": [
    "Q2.\r\n",
    "Escreva uma função em Python chamada soma_quadrados que recebe dois números como parâmetros e retorna a soma dos seus quadrados.\r\n",
    "No programa principal solicite ao usuário que insira dois números e utilize a função para exibir a soma dos quadrados."
   ]
  },
  {
   "cell_type": "code",
   "execution_count": null,
   "id": "759d77a9-57a7-41ee-bd31-a9858b04ad20",
   "metadata": {},
   "outputs": [],
   "source": [
    "def soma_quadrados(x,y):\n",
    "    soma=x**2+y**2\n",
    "    return soma"
   ]
  },
  {
   "cell_type": "code",
   "execution_count": 2,
   "id": "b5d77979-18e9-473b-b7f6-408dbc4807ee",
   "metadata": {},
   "outputs": [
    {
     "name": "stdin",
     "output_type": "stream",
     "text": [
      "Valor de x:  2\n",
      "Valor de y:  2\n"
     ]
    },
    {
     "ename": "NameError",
     "evalue": "name 'soma_quadrados' is not defined",
     "output_type": "error",
     "traceback": [
      "\u001b[1;31m---------------------------------------------------------------------------\u001b[0m",
      "\u001b[1;31mNameError\u001b[0m                                 Traceback (most recent call last)",
      "Cell \u001b[1;32mIn[2], line 2\u001b[0m\n\u001b[0;32m      1\u001b[0m x,y\u001b[38;5;241m=\u001b[39m\u001b[38;5;28mint\u001b[39m(\u001b[38;5;28minput\u001b[39m(\u001b[38;5;124m\"\u001b[39m\u001b[38;5;124mValor de x: \u001b[39m\u001b[38;5;124m\"\u001b[39m)), \u001b[38;5;28mint\u001b[39m(\u001b[38;5;28minput\u001b[39m(\u001b[38;5;124m\"\u001b[39m\u001b[38;5;124mValor de y: \u001b[39m\u001b[38;5;124m\"\u001b[39m))\n\u001b[1;32m----> 2\u001b[0m \u001b[38;5;28mprint\u001b[39m(\u001b[38;5;124mf\u001b[39m\u001b[38;5;124m\"\u001b[39m\u001b[38;5;124mA soma dos quadrados de \u001b[39m\u001b[38;5;132;01m{\u001b[39;00mx\u001b[38;5;132;01m}\u001b[39;00m\u001b[38;5;124m e \u001b[39m\u001b[38;5;132;01m{\u001b[39;00my\u001b[38;5;132;01m}\u001b[39;00m\u001b[38;5;124m é = \u001b[39m\u001b[38;5;132;01m{\u001b[39;00msoma_quadrados(x,y)\u001b[38;5;132;01m}\u001b[39;00m\u001b[38;5;124m\"\u001b[39m)\n",
      "\u001b[1;31mNameError\u001b[0m: name 'soma_quadrados' is not defined"
     ]
    }
   ],
   "source": [
    "x,y=int(input(\"Valor de x: \")), int(input(\"Valor de y: \"))\n",
    "print(f\"A soma dos quadrados de {x} e {y} é = {soma_quadrados(x,y)}\")"
   ]
  },
  {
   "cell_type": "code",
   "execution_count": null,
   "id": "b325a490-1486-4428-ada3-acc16b61196a",
   "metadata": {},
   "outputs": [],
   "source": [
    "Q3.\n",
    "Crie uma função em Python chamada soma_digitos que recebe um número inteiro como parâmetro e retorna a soma dos seus dígitos. Por exemplo, para o número 123, a função deve retornar 6, \n",
    ".\n",
    "\n",
    "O desafio aqui é separar os dígitos de um número inteiro usando operações aritméticas\n",
    "\n",
    "No programa principal solicite ao usuário que insira um número e utilize a função soma_digitos para calcular e exibir a soma dos seus dígitos."
   ]
  },
  {
   "cell_type": "code",
   "execution_count": null,
   "id": "c19176e1-5395-42a8-8a8b-6beb005cdfdf",
   "metadata": {},
   "outputs": [],
   "source": [
    "def soma_digitos(n):\n",
    "    soma = 0\n",
    "    while n > 0:\n",
    "        soma += n % 10\n",
    "        n //= 10\n",
    "    return soma"
   ]
  },
  {
   "cell_type": "code",
   "execution_count": 3,
   "id": "03c07861-e4ce-4209-be08-b651bc3db745",
   "metadata": {},
   "outputs": [
    {
     "name": "stdin",
     "output_type": "stream",
     "text": [
      "Digite um número:  2\n"
     ]
    },
    {
     "ename": "NameError",
     "evalue": "name 'soma_digitos' is not defined",
     "output_type": "error",
     "traceback": [
      "\u001b[1;31m---------------------------------------------------------------------------\u001b[0m",
      "\u001b[1;31mNameError\u001b[0m                                 Traceback (most recent call last)",
      "Cell \u001b[1;32mIn[3], line 2\u001b[0m\n\u001b[0;32m      1\u001b[0m numero \u001b[38;5;241m=\u001b[39m \u001b[38;5;28mint\u001b[39m(\u001b[38;5;28minput\u001b[39m(\u001b[38;5;124m\"\u001b[39m\u001b[38;5;124mDigite um número: \u001b[39m\u001b[38;5;124m\"\u001b[39m))\n\u001b[1;32m----> 2\u001b[0m \u001b[38;5;28mprint\u001b[39m(\u001b[38;5;124mf\u001b[39m\u001b[38;5;124m\"\u001b[39m\u001b[38;5;124mA soma dos dígitos de \u001b[39m\u001b[38;5;132;01m{\u001b[39;00mnumero\u001b[38;5;132;01m}\u001b[39;00m\u001b[38;5;124m é \u001b[39m\u001b[38;5;132;01m{\u001b[39;00msoma_digitos(numero)\u001b[38;5;132;01m}\u001b[39;00m\u001b[38;5;124m\"\u001b[39m)\n",
      "\u001b[1;31mNameError\u001b[0m: name 'soma_digitos' is not defined"
     ]
    }
   ],
   "source": [
    "numero = int(input(\"Digite um número: \"))\n",
    "print(f\"A soma dos dígitos de {numero} é {soma_digitos(numero)}\")"
   ]
  },
  {
   "cell_type": "markdown",
   "id": "710dfc15-d326-474e-b166-0446853084fc",
   "metadata": {},
   "source": [
    "Q4.\r\n",
    "Crie a função inverteValor() que recebe um inteiro de qualquer tamanho e retorna esse valor invertido usando apenas operações aritméticas\r\n",
    "Crie a função verificaInverso() que recebe o valor original e o valor invertido e retorna verdadeiro se ambos forem igualmente par ou igualmente ímpar. Retorne falso caso contrário.\r\n",
    "No programa principal, peça um valor do usuário e imprima o retorno de ambas as funções."
   ]
  },
  {
   "cell_type": "code",
   "execution_count": 4,
   "id": "3f3ff6bd-4e1f-422f-85b1-c58e58af9249",
   "metadata": {},
   "outputs": [],
   "source": [
    "def inverteValor(n):\n",
    "    invertido = 0\n",
    "    while n > 0:\n",
    "        ultimo_digito = n % 10\n",
    "        invertido = invertido * 10 + ultimo_digito\n",
    "        n //= 10\n",
    "    return invertido\n",
    "\n",
    "def verificaInverso(original, invertido):\n",
    "    return (original % 2 == invertido % 2)"
   ]
  },
  {
   "cell_type": "code",
   "execution_count": 5,
   "id": "4663e220-b6c1-490a-8c86-98adb68485f0",
   "metadata": {},
   "outputs": [
    {
     "name": "stdin",
     "output_type": "stream",
     "text": [
      "Digite um número:  2\n"
     ]
    },
    {
     "name": "stdout",
     "output_type": "stream",
     "text": [
      "O valor invertido de 2 é 2.\n",
      "Os valores 2 e 2 são igualmente par ou ímpar? True.\n"
     ]
    }
   ],
   "source": [
    "numeroOriginal = int(input(\"Digite um número: \"))\n",
    "numeroInvertido = inverteValor(numeroOriginal)\n",
    "print(f\"O valor invertido de {numeroOriginal} é {numeroInvertido}.\")\n",
    "print(f\"Os valores {numeroOriginal} e {numeroInvertido} são igualmente par ou ímpar? {verificaInverso(numeroOriginal, numeroInvertido)}.\")"
   ]
  },
  {
   "cell_type": "code",
   "execution_count": null,
   "id": "ff797617-4c8c-4c67-b8a5-aa78b2f5deea",
   "metadata": {},
   "outputs": [],
   "source": [
    "Q5.\n",
    "Você está desenvolvendo um programa para auxiliar em cálculos de geometria básica. Crie as seguintes funções:\n",
    "\n",
    "A função calcula_perimetro_triangulo() que recebe três inteiros correspondentes aos lados de um triângulo e retorna o perímetro do triângulo, ou seja, a soma dos seus lados.\n",
    "\n",
    "A função calcula_perimetro_circulo() que recebe um inteiro referente ao raio do círculo e retorna o perímetro do círculo, dado por \n",
    ". Use a constante \n",
    " da biblioteca math.\n",
    "\n",
    "A função calcula_perimetro_retangulo() que possui um parâmetro obrigatório lado1 e um opcional lado2, ambos inteiros. Se o valor opcional não for fornecido, significa que se trata de um quadrado. Sua função deve calcular e retornar o perímetro do retângulo, ou seja, a soma de seus lados.\n",
    "\n",
    "Para o quadrado, é dado por \n",
    "Para o retângulo é dado por \n",
    "No programa principal apresente um menu com as opções disponíveis do seu sistema e uma quarta opção Sair. Solicite ao usuário a opção desejada, solicite as entradas correspondentes à opção escolhida, invoque a respective função e apresente o seu retorno. Seu programa deve retornar ao menu até que o usuário escolha a opção Sair\n",
    "\n",
    "Exemplo de interação:\n",
    "\n",
    "1 - Calcular perímetro triângulo\n",
    "2 - Calcular perímetro círculo\n",
    "3 - Calcular perímetro retângulo\n",
    "4 - Sair\n",
    "\n",
    "Opção: 1\n",
    "Digite os três lados do triângulo:\n",
    "3\n",
    "4\n",
    "5\n",
    "O perímetro é: 12\n",
    "\n",
    "1 - Calcular perímetro triângulo\n",
    "2 - Calcular perímetro círculo\n",
    "3 - Calcular perímetro retângulo\n",
    "4 - Sair\n",
    "\n",
    "Opção: 3\n",
    "Informe os dois lados do retângulo. Se for um quadrado, digite 0 para o segundo valor:\n",
    "5\n",
    "0\n",
    "O perímetro é: 20\n",
    "\n",
    "1 - Calcular perímetro triângulo\n",
    "2 - Calcular perímetro círculo\n",
    "3 - Calcular perímetro retângulo\n",
    "4 - Sair\n",
    "\n",
    "Opção: 4"
   ]
  },
  {
   "cell_type": "code",
   "execution_count": null,
   "id": "fb7e333e-c92f-4f9d-a55a-cc7faf5926f4",
   "metadata": {},
   "outputs": [],
   "source": [
    "import math\n",
    "\n",
    "def calcula_perimetro_triangulo(lado1, lado2, lado3):\n",
    "    return lado1 + lado2 + lado3\n",
    "\n",
    "def calcula_perimetro_circulo(raio):\n",
    "    return 2 * math.pi * raio\n",
    "\n",
    "def calcula_perimetro_retangulo(lado1, lado2):\n",
    "    if lado2 == 0:\n",
    "        return 4 * lado1\n",
    "    else:\n",
    "        return 2 * (lado1 + lado2)\n",
    "\n",
    "def menu():\n",
    "    print(\"\\n1 - Calcular perímetro triângulo\")\n",
    "    print(\"2 - Calcular perímetro círculo\")\n",
    "    print(\"3 - Calcular perímetro retângulo\")\n",
    "    print(\"4 - Sair\""
   ]
  },
  {
   "cell_type": "code",
   "execution_count": null,
   "id": "419efff2-aa78-4add-b598-ba1156d8c1f0",
   "metadata": {},
   "outputs": [],
   "source": [
    "def main():\n",
    "    while True:\n",
    "        menu()\n",
    "        opcao = int(input(\"Escolha um opção: \"))\n",
    "        \n",
    "        if opcao == 1:\n",
    "            print(\"\\nOpção: 1\\nDigite os três lados do triângulo:\")\n",
    "            lado1 = int(input(\"Digite o primeiro lado do triângulo: \"))\n",
    "            print(lado1)\n",
    "            lado2 = int(input(\"Digite o segundo lado do triângulo: \"))\n",
    "            print(lado2)\n",
    "            lado3 = int(input(\"Digite o terceiro lado do triângulo: \"))\n",
    "            print(lado3)\n",
    "            print(f\"O perímetro do triângulo é: {calcula_perimetro_triangulo(lado1, lado2, lado3)}\")\n",
    "        elif opcao == 2:\n",
    "            print(\"\\nOpção: 2\\nDigite o raio do círculo:\")\n",
    "            raio = int(input(\"Digite o raio do círculo: \"))\n",
    "            print(raio)\n",
    "            print(f\"O perímetro do círculo é: {calcula_perimetro_circulo(raio):.2f}\")\n",
    "        elif opcao == 3:\n",
    "            print(\"\\nOpção: 3\\nInforme os dois lados do retângulo. Se for um quadrado, digite 0 para o segundo valor:\")\n",
    "            lado1 = int(input(\"Digite o primeiro lado do retângulo: \"))\n",
    "            print(lado1)\n",
    "            lado2 = int(input(\"Digite o segundo lado do retângulo ou 0 se for um quadrado: \"))\n",
    "            print(lado2)\n",
    "            print(f\"O perímetro do retângulo é: {calcula_perimetro_retangulo(lado1, lado2)}\")\n",
    "        elif opcao == 4:\n",
    "            print(\"\\nOpção: 4\")\n",
    "            break\n",
    "        else:\n",
    "            print(\"Opção inválida. Tente novamente.\")\n",
    "\n",
    "if __name__ == \"__main__\":\n",
    "    main()"
   ]
  },
  {
   "cell_type": "markdown",
   "id": "88e23c89-d2e7-469f-8fcd-aa365b60cda7",
   "metadata": {},
   "source": [
    "Funções lambda\r\n",
    "Q6.\r\n",
    "Crie uma função lambda para verificar se um número é par ou ímpar. Em seguida, solicite ao usuário um número indefinidos de valores (até que o usuário digite 0). Para cada valor de entrada, informe se é par ou ímpar.\r\n",
    "\r\n",
    "Exemplo de interação:\r\n",
    "\r\n",
    "Digite os valores que deseja verificar a paridade (digite 0 para finalizar a entrada de dados):\r\n",
    "3\r\n",
    "ímpar\r\n",
    "8\r\n",
    "par\r\n",
    "12\r\n",
    "par\r\n",
    "5\r\n",
    "ímpar\r\n",
    "7ímpar"
   ]
  },
  {
   "cell_type": "code",
   "execution_count": null,
   "id": "79956ed8-adf7-4204-9948-10bdb1975308",
   "metadata": {},
   "outputs": [],
   "source": []
  }
 ],
 "metadata": {
  "kernelspec": {
   "display_name": "Python 3 (ipykernel)",
   "language": "python",
   "name": "python3"
  },
  "language_info": {
   "codemirror_mode": {
    "name": "ipython",
    "version": 3
   },
   "file_extension": ".py",
   "mimetype": "text/x-python",
   "name": "python",
   "nbconvert_exporter": "python",
   "pygments_lexer": "ipython3",
   "version": "3.11.7"
  }
 },
 "nbformat": 4,
 "nbformat_minor": 5
}
