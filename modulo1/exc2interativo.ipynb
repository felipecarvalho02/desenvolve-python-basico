{
 "cells": [
  {
   "cell_type": "code",
   "execution_count": 1,
   "id": "f99c21da-0f49-4a97-b2e0-3a9e6ba83233",
   "metadata": {},
   "outputs": [
    {
     "name": "stdout",
     "output_type": "stream",
     "text": [
      "11\n"
     ]
    }
   ],
   "source": [
    "x = 10\n",
    "y = 5\n",
    "print (x+1)"
   ]
  },
  {
   "cell_type": "code",
   "execution_count": 2,
   "id": "ad3c6c3e-3e4d-488e-ad1a-dea90a6cf5ea",
   "metadata": {},
   "outputs": [
    {
     "name": "stdout",
     "output_type": "stream",
     "text": [
      "3\n"
     ]
    }
   ],
   "source": [
    "print (y-2)"
   ]
  },
  {
   "cell_type": "code",
   "execution_count": null,
   "id": "487d3b60-8d76-4e92-b04b-58d352f3337a",
   "metadata": {},
   "outputs": [],
   "source": []
  }
 ],
 "metadata": {
  "kernelspec": {
   "display_name": "Python 3 (ipykernel)",
   "language": "python",
   "name": "python3"
  },
  "language_info": {
   "codemirror_mode": {
    "name": "ipython",
    "version": 3
   },
   "file_extension": ".py",
   "mimetype": "text/x-python",
   "name": "python",
   "nbconvert_exporter": "python",
   "pygments_lexer": "ipython3",
   "version": "3.11.7"
  }
 },
 "nbformat": 4,
 "nbformat_minor": 5
}
