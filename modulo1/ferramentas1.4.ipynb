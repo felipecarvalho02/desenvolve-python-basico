{
 "cells": [
  {
   "cell_type": "code",
   "execution_count": 1,
   "id": "1d2fafa6-2206-4943-8bce-a2d911f1855f",
   "metadata": {},
   "outputs": [
    {
     "name": "stdout",
     "output_type": "stream",
     "text": [
      "Meu primeiro codigo\n"
     ]
    }
   ],
   "source": [
    "print (\"Meu primeiro codigo\")"
   ]
  },
  {
   "cell_type": "code",
   "execution_count": null,
   "id": "872161ea-1e8b-4a97-8dea-9764d79e4a84",
   "metadata": {},
   "outputs": [],
   "source": [
    "x = 10\n",
    "y = 5\n",
    "\n",
    "print(x+1)\n",
    "print (y-2)\n",
    "print (y*x)\n",
    "print x/y"
   ]
  }
 ],
 "metadata": {
  "kernelspec": {
   "display_name": "Python 3 (ipykernel)",
   "language": "python",
   "name": "python3"
  },
  "language_info": {
   "codemirror_mode": {
    "name": "ipython",
    "version": 3
   },
   "file_extension": ".py",
   "mimetype": "text/x-python",
   "name": "python",
   "nbconvert_exporter": "python",
   "pygments_lexer": "ipython3",
   "version": "3.11.7"
  }
 },
 "nbformat": 4,
 "nbformat_minor": 5
}
