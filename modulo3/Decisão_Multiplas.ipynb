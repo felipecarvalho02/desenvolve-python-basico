{
 "cells": [
  {
   "cell_type": "markdown",
   "id": "97d6fe1f-518c-4f2e-96fc-69b2ccc286b7",
   "metadata": {},
   "source": [
    "Módulo 3 - Condicionais\r\n",
    "3.5 - Decisões Múltiplas\r\n",
    "Q1.\r\n",
    "Vamos fazer uma calculadora! Escreva um programa que solicita 3 entradas: o primeiro operando (float), o operador (caracter) e o segundo operando (float). Seu programa deve imprimir o resultado da operação solicitada, entre soma (+), subtração (-), divisão (/), multiplicação (*) ou potência (**). Seu programa também deve imprimir uma mensagem de erro se a operação solicitada não estiver dentre as opções disponíveis.\r\n",
    "\r\n",
    "Seguem alguns exemplos de interação com seu código no terminal.\r\n",
    "\r\n",
    "Digite o primeiro operando: 5.2\r\n",
    "Digite o operador (+, -, /, *, **): *\r\n",
    "Digite o segundo operando` 3\r\n",
    "Resultado: 5.2 * 3.0 = 15.6\r\n",
    "Digite o primeiro operando: 8\r\n",
    "Digite o operador (+, -, /, *, **): **\r\n",
    "Digite o segundo operando: 2\r\n",
    "Resultado: 8.0 * 2.0 = 64.0\r\n",
    "Digite o primeiro operando: 7\r\n",
    "Digite o operador (+, -, /, *, **): %\r\n",
    "Digite o segundo operando: 3.4\r\n",
    "Erro! Operação inválida. \r\n",
    "Digite o primeiro operando: 10\r\n",
    "Digite o operador (+, -, /, *, **): /\r\n",
    "Digite o segundo operando: 2.5\r\n",
    "Resultado: 10.0 / 2.5 = 4.0"
   ]
  },
  {
   "cell_type": "code",
   "execution_count": 3,
   "id": "eb793555-d1d9-48a1-bc26-a1ee621deeb3",
   "metadata": {},
   "outputs": [
    {
     "name": "stdin",
     "output_type": "stream",
     "text": [
      "Digite o primeiro operando:  8\n",
      "Digite o operador (+,-,/,*,**):  4\n",
      "Digite o segundo operando:  4\n"
     ]
    },
    {
     "name": "stdout",
     "output_type": "stream",
     "text": [
      "Erro! Operação inválida\n"
     ]
    }
   ],
   "source": [
    "operando1 = float(input(\"Digite o primeiro operando: \"))\n",
    "operador = input(\"Digite o operador (+,-,/,*,**): \")\n",
    "operando2 = float(input(\"Digite o segundo operando: \"))\n",
    "\n",
    "if (operador == '+'):\n",
    "    resultado = operando1 + operando2\n",
    "    print(f'Resultado: {operando1} + {operando2} = {resultado:,.1f}')\n",
    "elif (operador == '-'):\n",
    "    resultado = operando1 - operando2\n",
    "    print(f'Resultado: {operando1} - {operando2} = {resultado:,.1f}')\n",
    "elif (operador == '/'):\n",
    "    resultado = operando1 / operando2\n",
    "    print(f'Resultado: {operando1} / {operando2} = {resultado:,.1f}')\n",
    "elif (operador == '*'):\n",
    "    resultado = operando1 * operando2\n",
    "    print(f'Resultado: {operando1} * {operando2} = {resultado:,.1f}')\n",
    "elif (operador == '*'):\n",
    "    resultado = operando1 ** operando2\n",
    "    print(f'Resultado: {operando1} ** {operando2} = {resultado:,.1f}')\n",
    "else:\n",
    "    print('Erro! Operação inválida')"
   ]
  },
  {
   "cell_type": "code",
   "execution_count": null,
   "id": "5aad0a9f-e50c-4fb3-a2d5-85134e6a8400",
   "metadata": {},
   "outputs": [],
   "source": [
    "Questão 2.\n",
    "Escreva um programa que leia os comprimentos dos 3 lados de um triângulo e diga se o triângulo é equilátero, isóceles ou escaleno. Regras:\n",
    "\n",
    "Isóceles: Quaisquer dois lados com o mesmo comprimento\n",
    "Equilátero: Os três lados tem o mesmo comprimento\n",
    "Escaleno: Três lados de comprimento diferente\n",
    "Note que a ordem das condições importa! Seguem alguns exemplos de interação com seu código no terminal.\n",
    "\n",
    "Digite o comprimento do lado 1: 4\n",
    "Digite o comprimento do lado 2: 4\n",
    "Digite o comprimento do lado 3: 6\n",
    "Triângulo: Isóceles\n",
    "Digite o comprimento do lado 1: 5\n",
    "Digite o comprimento do lado 2: 5\n",
    "Digite o comprimento do lado 3: 5\n",
    "Triângulo: Equilátero\n",
    "Digite o comprimento do lado 1: 7\n",
    "Digite o comprimento do lado 2: 4\n",
    "Digite o comprimento do lado 3: 9\n",
    "Triângulo: Escaleno"
   ]
  },
  {
   "cell_type": "code",
   "execution_count": 5,
   "id": "beb5ae6f-30c1-4250-89a3-a95a242136d7",
   "metadata": {},
   "outputs": [
    {
     "name": "stdin",
     "output_type": "stream",
     "text": [
      "Digite o comprimento do lado 1:  5\n",
      "Digite o comprimento do lado 2:  5\n",
      "Digite o comprimento do lado 3:  4\n"
     ]
    },
    {
     "name": "stdout",
     "output_type": "stream",
     "text": [
      "Triângulo: Isóceles\n"
     ]
    }
   ],
   "source": [
    "lado1 = int(input(\"Digite o comprimento do lado 1: \"))\n",
    "lado2 = int(input(\"Digite o comprimento do lado 2: \"))\n",
    "lado3 = int(input(\"Digite o comprimento do lado 3: \"))\n",
    "\n",
    "if (lado1 == lado2 and lado1 == lado3):\n",
    "    print(\"Triângulo: Equilátero\")\n",
    "elif (lado1 == lado2 or lado1 == lado3 or lado2 == lado3):\n",
    "    print(\"Triângulo: Isóceles\")\n",
    "else:\n",
    "    print(\"Triângulo: Escaleno\")"
   ]
  },
  {
   "cell_type": "markdown",
   "id": "50962e72-56fb-4f2a-a8d1-dbf75a88092d",
   "metadata": {},
   "source": [
    "#uestão 3## Q3.\r\n",
    "Você está desenvolvendo um sistema de avaliação de desempenho para um jogo. Escreva um programa em Python que avalia a pontuação do jogador em uma missão e atribui uma classificação com base nas seguintes condições:\r\n",
    "\r\n",
    "Se a pontuação for menor que 70, atribua a classificação \"Insatisfatório\".\r\n",
    "Se a pontuação for maior ou igual a 70, atribua a classificação \"Regular\".\r\n",
    "Se a pontuação for maior ou igual a 80, atribua a classificação \"Bom\".\r\n",
    "Se a pontuação for maior ou igual a 90, atribua a classificação \"Excelente\".\r\n",
    "Escreva um programa que solicita ao usuário a pontuação e imprime a classificação correspondente."
   ]
  },
  {
   "cell_type": "code",
   "execution_count": 4,
   "id": "2b8d039c-34a9-41c6-a38c-68dffbe83d88",
   "metadata": {},
   "outputs": [
    {
     "name": "stdin",
     "output_type": "stream",
     "text": [
      "Digite a sua pontuação:  5\n"
     ]
    },
    {
     "name": "stdout",
     "output_type": "stream",
     "text": [
      "Insatisfatório\n"
     ]
    }
   ],
   "source": [
    "classificacao = int(input(\"Digite a sua pontuação: \"))\n",
    "\n",
    "if (classificacao >= 90):\n",
    "    print(\"Excelente\")\n",
    "elif(classificacao >= 80):\n",
    "    print(\"Bom\")\n",
    "elif(classificacao >= 70):\n",
    "    print(\"Regular\")\n",
    "else:\n",
    "    print(\"Insatisfatório\")"
   ]
  },
  {
   "cell_type": "markdown",
   "id": "6ffe174b-9dc5-4403-988b-a6d7b24ecd54",
   "metadata": {},
   "source": [
    "Q4.\r\n",
    "Você está implementando um sistema de desconto em uma loja online. Escreva um programa em Python que calcula o desconto com base no valor total da compra e atribui diferentes níveis de desconto de acordo com as seguintes condições:\r\n",
    "\r\n",
    "Se o valor total da compra for menor que R$ 50, não há desconto.\r\n",
    "Se o valor total da compra for maior ou igual a R$ 50, atribua um desconto de 10%.\r\n",
    "Se o valor total da compra for maior ou igual a R$ 100, atribua um desconto de 20%.\r\n",
    "Seguem alguns exemplos de interação com seu código no terminal. Preste atenção na formatação esperada para as saídas.\r\n",
    "\r\n",
    "Digite o valor total da compra: 120\r\n",
    "Desconto aplicado: 20.0%\r\n",
    "Valor final com desconto: R$96.00\r\n",
    "Digite o valor total da compra: 65\r\n",
    "Desconto aplicado: 10.0%\r\n",
    "Valor final com desconto: R$58.50\r\n",
    "Digite o valor total da compra: 40\r\n",
    "Desconto aplicado: 0.0%\r\n",
    "Valor final com desconto: R$40.00"
   ]
  },
  {
   "cell_type": "code",
   "execution_count": null,
   "id": "0a2f12d2-add3-4d57-8a4b-8aca2b541c15",
   "metadata": {},
   "outputs": [],
   "source": [
    "## Escreva e execute seu código aqui\n",
    "valor = float(input(\"Digite o valor total da compra: \"))\n",
    "\n",
    "if(valor >= 100):\n",
    "    print(\"Desconto aplicado: 20.0%\")\n",
    "    print(f\"Valor final com desconto: {valor - (valor*0.2):,.2f}\")\n",
    "elif(valor >= 50):\n",
    "    print(\"Desconto aplicado: 10.0%\")\n",
    "    print(f\"Valor final com desconto: {valor - (valor*0.1):,.2f}\")\n",
    "else:\n",
    "    print(\"Desconto aplicado: 0.0%\")\n",
    "    print(f\"Valor final com desconto: {valor:,.2f}\")"
   ]
  },
  {
   "cell_type": "markdown",
   "id": "3d045c9e-93bb-4a7d-a734-5e6ee95d3ad8",
   "metadata": {},
   "source": [
    "Q5.\r\n",
    "Você está projetando um sistema de autenticação baseado na análise da íris (parte colorida do olho). Ao acionado, o sistema coleta e retorna 3 valores inteiros referentes a atributos da íris visível. Mas o sistema não é perfeito, tendo uma margem de erro do sensor de +/- \r\n",
    ".\r\n",
    "\r\n",
    "O código abaixo tem os atributos dos 4 usuários cadastrados no sistema. Você deve completar om código, pedindo ao usuário para inserir uma nova leitura de padrão de íris. O programa deve comparar o padrão inserido com os padrões cadastrados no banco de dados. Se o padrão estiver dentro da tolerância estabelecida, o usuário é autenticado com sucesso. Caso contrário, a autenticação falha.\r\n",
    "\r\n",
    "Dica: A função do python abs() retorna o valor absoluto de um elemento. Ex:\r\n",
    "\r\n",
    ">>> print(abs(987-982))\r\n",
    "5\r\n",
    ">>> print(abs(987-992))\r\n",
    "5\r\n",
    "Seguem alguns exemplos de interação com seu código no terminal.\r\n",
    "\r\n",
    "Insira o padrão de íris para autenticação.\r\n",
    "Atributo 1: 111\r\n",
    "Atributo 2: 222\r\n",
    "Atributo 3: 333\r\n",
    "Autenticação bem-sucedida! \r\n",
    "Usuário: 3\r\n",
    "Insira o padrão de íris para autenticação.\r\n",
    "Atributo 1: 111\r\n",
    "Atributo 2: 200\r\n",
    "Atributo 3: 333\r\n",
    "Autenticação falhou! \r\n",
    "Insira o padrão de íris para autenticação.\r\n",
    "Atributo 1: 982\r\n",
    "Atributo 2: 653\r\n",
    "Atributo 3: 324\r\n",
    "Autenticação bem-sucedida! \r\n",
    "Usuário: 2"
   ]
  },
  {
   "cell_type": "code",
   "execution_count": null,
   "id": "604cc56c-73b7-4b3b-b924-1d1039c87a9c",
   "metadata": {},
   "outputs": [],
   "source": []
  }
 ],
 "metadata": {
  "kernelspec": {
   "display_name": "Python 3 (ipykernel)",
   "language": "python",
   "name": "python3"
  },
  "language_info": {
   "codemirror_mode": {
    "name": "ipython",
    "version": 3
   },
   "file_extension": ".py",
   "mimetype": "text/x-python",
   "name": "python",
   "nbconvert_exporter": "python",
   "pygments_lexer": "ipython3",
   "version": "3.11.7"
  }
 },
 "nbformat": 4,
 "nbformat_minor": 5
}
