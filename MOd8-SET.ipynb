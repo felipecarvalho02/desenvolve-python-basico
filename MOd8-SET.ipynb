{
 "cells": [
  {
   "cell_type": "markdown",
   "id": "ca2d5f94-399d-4fc6-b5c9-ce3951986d57",
   "metadata": {},
   "source": [
    "Set\r\n",
    "Aula 8.1\r\n",
    "Q1.\r\n",
    "Dada uma string qualquer, use seu conhecimento de sets para apresentar os caracteres únicos que aparecem na string, ordenados alfabeticamente e sem duplicatas. Preste atenção em duplicatas de maiúsculas e minúsculas."
   ]
  },
  {
   "cell_type": "code",
   "execution_count": 1,
   "id": "9d9f9ad7-0bad-4a18-b325-645b36034700",
   "metadata": {},
   "outputs": [
    {
     "name": "stdout",
     "output_type": "stream",
     "text": [
      "['a', 'b', 'd', 'e', 'n', 'o', 'p', 'r', 's', 't', 'u']\n"
     ]
    }
   ],
   "source": [
    "def caracteres_unicos_ordenados(string):\n",
    "    string = string.lower()\n",
    "    caracteres_unicos = set(string)\n",
    "    caracteres_unicos.discard(' ')\n",
    "    caracteres_ordenados = sorted(caracteres_unicos)\n",
    "\n",
    "    return caracteres_ordenados\n",
    "\n",
    "frase = \"O rato roeu a roupa do Robson\"\n",
    "resultado = caracteres_unicos_ordenados(frase)\n",
    "print(resultado)"
   ]
  },
  {
   "cell_type": "markdown",
   "id": "3a7d43ac-eaa1-49f4-90f8-82cbda1d9852",
   "metadata": {},
   "source": [
    "Q2\r\n",
    "Desenvolva uma função em Python chamada tem_elementos_comuns() que recebe duas listas como parâmetros e retorna True se houver algum elemento comum entre as duas listas, e False caso contrário. Utilize sets para resolver essa tarefa."
   ]
  },
  {
   "cell_type": "code",
   "execution_count": 2,
   "id": "fb208d3c-037e-43cf-9271-50441f6ea7b1",
   "metadata": {},
   "outputs": [],
   "source": [
    "def tem_elementos_comuns(lista1, lista2):\n",
    "    set1 = set(lista1)\n",
    "    set2 = set(lista2)\n",
    "    \n",
    "    return not set1.isdisjoint(set2)"
   ]
  },
  {
   "cell_type": "code",
   "execution_count": 3,
   "id": "4cdff176-6138-4854-a414-1cf48f728f5c",
   "metadata": {},
   "outputs": [
    {
     "name": "stdout",
     "output_type": "stream",
     "text": [
      "True\n"
     ]
    }
   ],
   "source": [
    "# Execute esta célula para testar a função da Q2.\n",
    "\n",
    "lista1 = [1, 2, 3, 4]\n",
    "lista2 = [3, 4, 5, 6, 7]\n",
    "resultado = tem_elementos_comuns(lista1, lista2)\n",
    "print(resultado)  # Saída esperada: True"
   ]
  },
  {
   "cell_type": "markdown",
   "id": "af181e6b-ddc2-4cc6-a910-b488c2b5fea7",
   "metadata": {},
   "source": [
    "Q3.\r\n",
    "Você vai coletar de diferentes turmas de alunos seus interesses em atividades extra curriculares dentre futebol, vôlei, rugby, música, teatro, ações comunitárias. Informe o conjunto de atividades comuns a todas a turmas. Pode preencher o iterável turmas com valores arbitrários."
   ]
  },
  {
   "cell_type": "code",
   "execution_count": 4,
   "id": "315a5e6a-c202-4ef1-bdc6-aa16e504092e",
   "metadata": {},
   "outputs": [
    {
     "name": "stdout",
     "output_type": "stream",
     "text": [
      "Atividades comuns a todas as turmas: {'rugby'}\n"
     ]
    }
   ],
   "source": [
    "turmas = [\n",
    "     {'ações comunitárias', 'futebol', 'música', 'rugby'},\n",
    "     {'ações comunitárias', 'música', 'rugby', 'teatro'},\n",
    "     {'música', 'rugby', 'teatro', 'vôlei'},\n",
    "     {'música', 'vôlei', 'rugby'},\n",
    "     {'ações comunitárias', 'futebol', 'rugby', 'teatro', 'vôlei'},\n",
    "     {'ações comunitárias', 'futebol', 'rugby'},\n",
    "     {'ações comunitárias', 'rugby', 'teatro', 'vôlei'},\n",
    "     {'ações comunitárias', 'rugby', 'teatro', 'vôlei'},\n",
    "     {'ações comunitárias', 'rugby', 'vôlei'}\n",
    "]\n",
    "\n",
    "atividades_comuns = turmas[0]\n",
    "\n",
    "for turma in turmas[1:]:\n",
    "    atividades_comuns &= turma\n",
    "\n",
    "print(\"Atividades comuns a todas as turmas:\", atividades_comuns)"
   ]
  },
  {
   "cell_type": "markdown",
   "id": "5c938b79-7798-482e-a7f8-c6ecfa5e9152",
   "metadata": {},
   "source": [
    "Q4.\r\n",
    "Considere duas listas que são duplicatas uma da outra, exceto por um elemento, exemplo:\r\n",
    "\r\n",
    "A = [1, 4, 5, 7, 9]\r\n",
    "B = [4, 5, 7, 9]\r\n",
    "Encontre e apresente o elemento diferente, informando também qual das listas está desfalcada. Para o exemplo acima, a saída esperada é\r\n",
    "\r\n",
    "O elemento 1 está faltando na segunda lista"
   ]
  },
  {
   "cell_type": "code",
   "execution_count": 5,
   "id": "d32a08ba-e242-4027-b076-461f42748750",
   "metadata": {},
   "outputs": [
    {
     "ename": "SyntaxError",
     "evalue": "incomplete input (1491997187.py, line 15)",
     "output_type": "error",
     "traceback": [
      "\u001b[1;36m  Cell \u001b[1;32mIn[5], line 15\u001b[1;36m\u001b[0m\n\u001b[1;33m    encontrar_elemento_faltante(A, B\u001b[0m\n\u001b[1;37m                                    ^\u001b[0m\n\u001b[1;31mSyntaxError\u001b[0m\u001b[1;31m:\u001b[0m incomplete input\n"
     ]
    }
   ],
   "source": [
    "def encontrar_elemento_faltante(A, B):\n",
    "    set_A = set(A)\n",
    "    set_B = set(B)\n",
    "\n",
    "    if len(A) > len(B):\n",
    "        faltante = list(set_A - set_B)[0]\n",
    "        print(f\"O elemento {faltante} está faltando na segunda lista\")\n",
    "    else:\n",
    "        faltante = list(set_B - set_A)[0]\n",
    "        print(f\"O elemento {faltante} está faltando na primeira lista\")\n",
    "\n",
    "# Exemplos de uso\n",
    "A = [1, 4, 5, 7, 9]\n",
    "B = [4, 5, 7, 9]\n",
    "encontrar_elemento_faltante(A, B"
   ]
  },
  {
   "cell_type": "markdown",
   "id": "0ecd3495-b6e8-4b09-9ff7-b8608c2ae5ea",
   "metadata": {},
   "source": [
    "Q5.\r\n",
    "Panagramas são frases que contém todas as letras do alfabeto pelo menos uma vez. Crie uma função checa_panagrama que recebe uma string e retorna True caso seja um panagrama ou Falsecaso contrário. Use seu conhecimento de sets para solucionar essa questão.\r\n",
    "\r\n",
    "Ex:\r\n",
    "\r\n",
    "Entrada: \"The quick brown fox jumps over the lazy dog\" \r\n",
    "Saída: É um panagrama\r\n",
    "Entrada: \"Python é uma linguagem de programação\" \r\n",
    "Saída: Não é um panagrama"
   ]
  },
  {
   "cell_type": "code",
   "execution_count": 6,
   "id": "74447b9d-709d-432c-93a3-4e0f5ddc5e57",
   "metadata": {},
   "outputs": [
    {
     "name": "stdout",
     "output_type": "stream",
     "text": [
      "Não é um panagrama\n"
     ]
    }
   ],
   "source": [
    "def checa_panagrama(string):\n",
    "    # Define o conjunto de todas as letras do alfabeto em minúsculas\n",
    "    alfabeto = set('abcdefghijklmnopqrstuvwxyz')\n",
    "    \n",
    "    # Converte a string para minúsculas e cria um conjunto de caracteres presentes na string\n",
    "    caracteres_presentes = set(string.lower())\n",
    "    \n",
    "    # Verifica se todas as letras do alfabeto estão presentes no conjunto de caracteres da string\n",
    "    return alfabeto.issubset(caracteres_presentes)\n",
    "\n",
    "frase1 = \"The quick brown fox jumps over the lazy dog\"\n",
    "frase2 = \"Python é uma linguagem de programação\"\n",
    "\n",
    "if checa_panagrama(frase2):\n",
    "    print('É um panagrama')\n",
    "else:\n",
    "    print('Não é um panagrama')"
   ]
  },
  {
   "cell_type": "code",
   "execution_count": null,
   "id": "c7dfa146-aa9a-44a1-9e36-4c3130e0ee8d",
   "metadata": {},
   "outputs": [],
   "source": []
  }
 ],
 "metadata": {
  "kernelspec": {
   "display_name": "Python 3 (ipykernel)",
   "language": "python",
   "name": "python3"
  },
  "language_info": {
   "codemirror_mode": {
    "name": "ipython",
    "version": 3
   },
   "file_extension": ".py",
   "mimetype": "text/x-python",
   "name": "python",
   "nbconvert_exporter": "python",
   "pygments_lexer": "ipython3",
   "version": "3.11.7"
  }
 },
 "nbformat": 4,
 "nbformat_minor": 5
}
