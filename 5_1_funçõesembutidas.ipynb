{
  "nbformat": 4,
  "nbformat_minor": 0,
  "metadata": {
    "colab": {
      "provenance": [],
      "authorship_tag": "ABX9TyNR4mHG9bIy5fQdJNb3XL/g",
      "include_colab_link": true
    },
    "kernelspec": {
      "name": "python3",
      "display_name": "Python 3"
    },
    "language_info": {
      "name": "python"
    }
  },
  "cells": [
    {
      "cell_type": "markdown",
      "metadata": {
        "id": "view-in-github",
        "colab_type": "text"
      },
      "source": [
        "<a href=\"https://colab.research.google.com/github/felipecarvalho02/desenvolve-python-basico/blob/main/5_1_fun%C3%A7%C3%B5esembutidas.ipynb\" target=\"_parent\"><img src=\"https://colab.research.google.com/assets/colab-badge.svg\" alt=\"Open In Colab\"/></a>"
      ]
    },
    {
      "cell_type": "markdown",
      "source": [
        "Escreva um codigo que gere n o valores inteiros aleatorios entre 0 e 100 e calcule a raiz quadrada da soma dos valores. Peça ao usuario o valor d n\n",
        "*   Biblioteca random: Função randint()\n",
        "*   Biblioteca math: Função sqrt()\n",
        "\n"
      ],
      "metadata": {
        "id": "2imWDjhAJ_z4"
      }
    },
    {
      "cell_type": "code",
      "execution_count": 8,
      "metadata": {
        "colab": {
          "base_uri": "https://localhost:8080/"
        },
        "id": "Lt9VuIJlJ1B2",
        "outputId": "56c9dc74-23e2-4008-fa69-d22775b839d2"
      },
      "outputs": [
        {
          "output_type": "stream",
          "name": "stdout",
          "text": [
            "Digite a quantiadade de valores:  3\n",
            "5\n",
            "5\n",
            "A raiz quadrada da soma é2.24\n",
            "96\n",
            "101\n",
            "A raiz quadrada da soma é10.05\n",
            "76\n",
            "177\n",
            "A raiz quadrada da soma é13.30\n"
          ]
        }
      ],
      "source": [
        "import random, math\n",
        "\n",
        "n = int(input(\"Digite a quantiadade de valores:  \"))\n",
        "soma = 0\n",
        "for i in range(n):\n",
        "  valor = random.randint(0, 100)\n",
        "  print(valor)\n",
        "  soma += valor\n",
        "\n",
        "\n",
        "  print(soma)\n",
        "  print(f\"A raiz quadrada da soma é{math.sqrt(soma):.2f}\")\n",
        "\n",
        "\n",
        "\n"
      ]
    }
  ]
}