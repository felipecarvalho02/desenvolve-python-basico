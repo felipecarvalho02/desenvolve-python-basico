{
 "cells": [
  {
   "cell_type": "code",
   "execution_count": 1,
   "id": "63c6b181-930e-40e4-8a41-49b0eb3436ac",
   "metadata": {},
   "outputs": [
    {
     "name": "stdin",
     "output_type": "stream",
     "text": [
      "Digite a quantidade de experimentos:  5\n",
      "Qual animal foi utilizado: C_coelho,R_rato ou S_sapo:  5\n",
      "Digite a quantidade de cobaias utilizadas:  5\n",
      "Qual animal foi utilizado: C_coelho,R_rato ou S_sapo:  5\n",
      "Digite a quantidade de cobaias utilizadas:  5\n",
      "Qual animal foi utilizado: C_coelho,R_rato ou S_sapo:  5\n",
      "Digite a quantidade de cobaias utilizadas:  3\n",
      "Qual animal foi utilizado: C_coelho,R_rato ou S_sapo:  3\n",
      "Digite a quantidade de cobaias utilizadas:  3\n",
      "Qual animal foi utilizado: C_coelho,R_rato ou S_sapo:  3\n",
      "Digite a quantidade de cobaias utilizadas:  3\n"
     ]
    },
    {
     "name": "stdout",
     "output_type": "stream",
     "text": [
      "\n",
      "Total de cobaias utilizadas: 0\n",
      "Foram utilizados 0 coelhos, 0 ratos e 0 sapos\n"
     ]
    },
    {
     "ename": "ZeroDivisionError",
     "evalue": "division by zero",
     "output_type": "error",
     "traceback": [
      "\u001b[1;31m---------------------------------------------------------------------------\u001b[0m",
      "\u001b[1;31mZeroDivisionError\u001b[0m                         Traceback (most recent call last)",
      "Cell \u001b[1;32mIn[1], line 20\u001b[0m\n\u001b[0;32m     18\u001b[0m \u001b[38;5;28mprint\u001b[39m(\u001b[38;5;124mf\u001b[39m\u001b[38;5;124m\"\u001b[39m\u001b[38;5;130;01m\\n\u001b[39;00m\u001b[38;5;124mTotal de cobaias utilizadas: \u001b[39m\u001b[38;5;132;01m{\u001b[39;00mtotal\u001b[38;5;132;01m}\u001b[39;00m\u001b[38;5;124m\"\u001b[39m)\n\u001b[0;32m     19\u001b[0m \u001b[38;5;28mprint\u001b[39m(\u001b[38;5;124mf\u001b[39m\u001b[38;5;124m\"\u001b[39m\u001b[38;5;124mForam utilizados \u001b[39m\u001b[38;5;132;01m{\u001b[39;00mc\u001b[38;5;132;01m}\u001b[39;00m\u001b[38;5;124m coelhos, \u001b[39m\u001b[38;5;132;01m{\u001b[39;00mr\u001b[38;5;132;01m}\u001b[39;00m\u001b[38;5;124m ratos e \u001b[39m\u001b[38;5;132;01m{\u001b[39;00ms\u001b[38;5;132;01m}\u001b[39;00m\u001b[38;5;124m sapos\u001b[39m\u001b[38;5;124m\"\u001b[39m)\n\u001b[1;32m---> 20\u001b[0m \u001b[38;5;28mprint\u001b[39m(\u001b[38;5;124mf\u001b[39m\u001b[38;5;124m\"\u001b[39m\u001b[38;5;124mSapos representam \u001b[39m\u001b[38;5;132;01m{\u001b[39;00ms\u001b[38;5;241m/\u001b[39mtotal\u001b[38;5;241m*\u001b[39m\u001b[38;5;241m100\u001b[39m\u001b[38;5;132;01m:\u001b[39;00m\u001b[38;5;124m2.2f\u001b[39m\u001b[38;5;132;01m}\u001b[39;00m\u001b[38;5;124m%, coelhos representam \u001b[39m\u001b[38;5;132;01m{\u001b[39;00mc\u001b[38;5;241m/\u001b[39mtotal\u001b[38;5;241m*\u001b[39m\u001b[38;5;241m100\u001b[39m\u001b[38;5;132;01m:\u001b[39;00m\u001b[38;5;124m2.2f\u001b[39m\u001b[38;5;132;01m}\u001b[39;00m\u001b[38;5;124m% e ratos representam \u001b[39m\u001b[38;5;132;01m{\u001b[39;00mr\u001b[38;5;241m/\u001b[39mtotal\u001b[38;5;241m*\u001b[39m\u001b[38;5;241m100\u001b[39m\u001b[38;5;132;01m:\u001b[39;00m\u001b[38;5;124m2.2f\u001b[39m\u001b[38;5;132;01m}\u001b[39;00m\u001b[38;5;124m%.\u001b[39m\u001b[38;5;124m\"\u001b[39m)\n",
      "\u001b[1;31mZeroDivisionError\u001b[0m: division by zero"
     ]
    }
   ],
   "source": [
    "n=int(input(\"Digite a quantidade de experimentos: \"))\n",
    "cont,qnt,c,r,s = 0,0,0,0,0\n",
    "\n",
    "while n != cont:\n",
    "    tipo=input(\"Qual animal foi utilizado: C_coelho,R_rato ou S_sapo: \")\n",
    "    qnt=int(input(\"Digite a quantidade de cobaias utilizadas: \"))\n",
    "    \n",
    "    cont +=1\n",
    "    if tipo==\"c\" or tipo==\"C\":\n",
    "        c+=qnt\n",
    "    elif tipo==\"r\" or tipo==\"R\":\n",
    "        r+=qnt\n",
    "    elif tipo==\"s\" or tipo==\"S\":\n",
    "        s+=qnt\n",
    "\n",
    "total=s+c+r\n",
    "\n",
    "print(f\"\\nTotal de cobaias utilizadas: {total}\")\n",
    "print(f\"Foram utilizados {c} coelhos, {r} ratos e {s} sapos\")\n",
    "print(f\"Sapos representam {s/total*100:2.2f}%, coelhos representam {c/total*100:2.2f}% e ratos representam {r/total*100:2.2f}%.\")"
   ]
  },
  {
   "cell_type": "code",
   "execution_count": null,
   "id": "c6c04215-3494-49dd-a889-137ebe477c08",
   "metadata": {},
   "outputs": [],
   "source": []
  }
 ],
 "metadata": {
  "kernelspec": {
   "display_name": "Python 3 (ipykernel)",
   "language": "python",
   "name": "python3"
  },
  "language_info": {
   "codemirror_mode": {
    "name": "ipython",
    "version": 3
   },
   "file_extension": ".py",
   "mimetype": "text/x-python",
   "name": "python",
   "nbconvert_exporter": "python",
   "pygments_lexer": "ipython3",
   "version": "3.11.7"
  }
 },
 "nbformat": 4,
 "nbformat_minor": 5
}
