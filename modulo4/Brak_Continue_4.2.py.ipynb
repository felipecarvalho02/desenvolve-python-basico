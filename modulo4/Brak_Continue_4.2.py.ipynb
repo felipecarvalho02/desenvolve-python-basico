{
 "cells": [
  {
   "cell_type": "markdown",
   "id": "61411666-8ad3-4557-8660-df81768f0773",
   "metadata": {},
   "source": [
    "Módulo 4 - Repetições\r\n",
    "Aulas 4.2 - Comando for e 4.3 Break e Continue\r\n",
    "Q1.\r\n",
    "Crie um programa em Python que utilize o comando for para imprimir os números de 10 a 1, em ordem decrescente."
   ]
  },
  {
   "cell_type": "code",
   "execution_count": 1,
   "id": "111dd277-2326-4dcb-b88e-b2e638f9a7e5",
   "metadata": {},
   "outputs": [
    {
     "name": "stdout",
     "output_type": "stream",
     "text": [
      "10\n",
      "9\n",
      "8\n",
      "7\n",
      "6\n",
      "5\n",
      "4\n",
      "3\n",
      "2\n",
      "1\n"
     ]
    }
   ],
   "source": [
    "for i in range(10, 0, -1):\n",
    "    print(i)"
   ]
  },
  {
   "cell_type": "markdown",
   "id": "2c47e0cd-6061-44e7-aaad-5b0b4b8d10ac",
   "metadata": {},
   "source": [
    "Q2.\r\n",
    "Dado um número inteiro positivo informado pelo usuário, crie um programa em Python que utilize o comando for para calcular e exibir a soma dos números de 1 até o número informado. Ou seja, \r\n",
    "\r\n",
    "Exemplo de interação:\r\n",
    "\r\n",
    "Digite um número: 5\r\n",
    "A soma dos números de 1 a 5 é 15"
   ]
  },
  {
   "cell_type": "code",
   "execution_count": 2,
   "id": "93eaba31-3f5b-47d4-90b3-be019649df38",
   "metadata": {},
   "outputs": [
    {
     "name": "stdin",
     "output_type": "stream",
     "text": [
      "Digite um número:  5\n"
     ]
    },
    {
     "name": "stdout",
     "output_type": "stream",
     "text": [
      "A soma dos números de 1 a 5 é 15.\n"
     ]
    }
   ],
   "source": [
    "n=int(input(\"Digite um número: \"))\n",
    "soma=0\n",
    "\n",
    "for i in range(1,n+1,1):\n",
    "    soma += i\n",
    "print(f'A soma dos números de 1 a {n} é {soma}.')"
   ]
  },
  {
   "cell_type": "markdown",
   "id": "e91e6101-fe96-46c3-9671-ade0d96127ed",
   "metadata": {},
   "source": [
    "Q3.\r\n",
    "Escreva um programa que lê 10 valores inteiros positivos do usuário e ao final imprime a média dos valores digitados com duas casas decimais\n",
    "\n",
    "Digite 10 números positivos:\r\n",
    "3\r\n",
    "2\r\n",
    "12\r\n",
    "14\r\n",
    "20\r\n",
    "42\r\n",
    "19\r\n",
    "0\r\n",
    "8\r\n",
    "1\r\n",
    "A média dos valores digitados é 12.10."
   ]
  },
  {
   "cell_type": "code",
   "execution_count": null,
   "id": "6639a372-2d78-460b-bd2b-0774c1882807",
   "metadata": {},
   "outputs": [],
   "source": [
    "print(\"Digite 10 números positivos:\")\n",
    "\n",
    "i=0\n",
    "soma= 0\n",
    "\n",
    "while i<10:\n",
    "    n=int(input())\n",
    "    if n>0:\n",
    "        i += 1\n",
    "        soma += n\n",
    "\n",
    "print(f'A média dos valores digitados é {soma/10:.2f}')"
   ]
  },
  {
   "cell_type": "markdown",
   "id": "5543eb98-3a1b-4e87-bb0c-129c1f74c034",
   "metadata": {},
   "source": [
    "Q4.\r\n",
    "Você vai criar um sistema que registra os resultados dos jogos do Atlético MG ao longo de um campeonato. Seu sistema vai receber os resultados de todos os jogos do Galo, e deve calcular a pontuação do time sabendo que vitórias valem 3 pontos, empates 1 ponto e derrotas 0 pontos.\r\n",
    "\r\n",
    "Entrada:\r\n",
    "A primeira linha de entrada é um inteiro N com a quantidade jogos do galo. Para cada jogo você deve ler 2 inteiros, o primeiro com a quantidade de gols do galo e o segundo com a quantidade de gols do time oponente.\r\n",
    "\r\n",
    "Saída:\r\n",
    "Apresente a soma de vitórias, empates e derrotas do galo, junto com o cálculo da pontuação total.\r\n",
    "\r\n",
    "Ex:\r\n",
    "\r\n",
    "Entrada:\r\n",
    "4\r\n",
    "2\r\n",
    "0\r\n",
    "1\r\n",
    "1\r\n",
    "0\r\n",
    "3\r\n",
    "1\r\n",
    "0\r\n",
    "\r\n",
    "Saída:\r\n",
    "Vitórias: 2\r\n",
    "Empates: 1\r\n",
    "Derrotas: 1\r\n",
    "Pontuação: 7"
   ]
  },
  {
   "cell_type": "code",
   "execution_count": 3,
   "id": "2bd53a73-14ae-4892-b6b7-12e95379b7e8",
   "metadata": {},
   "outputs": [
    {
     "name": "stdin",
     "output_type": "stream",
     "text": [
      "Digite a quantidade de jogos do galo:  5\n",
      "Quantos gols o galo fez ?  5\n",
      "Quantos gols o galo sofreu ?  4\n",
      "Quantos gols o galo fez ?  4\n",
      "Quantos gols o galo sofreu ?  4\n",
      "Quantos gols o galo fez ?  4\n",
      "Quantos gols o galo sofreu ?  1\n",
      "Quantos gols o galo fez ?  5\n",
      "Quantos gols o galo sofreu ?  1\n",
      "Quantos gols o galo fez ?  1\n",
      "Quantos gols o galo sofreu ?  1\n"
     ]
    },
    {
     "name": "stdout",
     "output_type": "stream",
     "text": [
      "Vitórias: 5\n",
      "Empates: 0\n",
      "Derrotas: 0\n",
      "Pontuação: 15\n"
     ]
    }
   ],
   "source": [
    "n=int(input(\"Digite a quantidade de jogos do galo: \"))\n",
    "pontos, vitoria, derrota,empate,galo,adv=0,0,0,0,0,0\n",
    "\n",
    "for i in range(1,n+1,1):\n",
    "    galo=galo+int(input(\"Quantos gols o galo fez ? \"))\n",
    "    adv=adv+int(input(\"Quantos gols o galo sofreu ? \"))\n",
    "    if galo>adv:\n",
    "        vitoria += 1\n",
    "        pontos += 3\n",
    "    elif galo==adv:\n",
    "        empate += 1\n",
    "        pontos += 1\n",
    "    else:\n",
    "        derrota += 1\n",
    "        \n",
    "print(f'Vitórias: {vitoria}\\nEmpates: {empate}\\nDerrotas: {derrota}\\nPontuação: {pontos}')"
   ]
  },
  {
   "cell_type": "markdown",
   "id": "c65890af-b7aa-4cf7-8191-25d2d97d72f3",
   "metadata": {},
   "source": [
    "Q5.\r\n",
    "Faça um programa que lê dois inteiros N e M, e imprime na tela um campo de batalha naval. O tabuleiro deve possuir N linhas e M colunas. A primeira linha é composta por um espaço em branco e o cabeçalho das colunas, ou seja, valores de 1 a M. As N linhas seguintes iniciam com o cabeçalho da linha, ou seja, seu número, seguido de M caracteres \"/\" (barra) indicando uma possível posição jogável.\r\n",
    "\r\n",
    "Entrada:\r\n",
    "5\r\n",
    "4\r\n",
    "\r\n",
    "Saída:\r\n",
    "  1 2 3 4 \r\n",
    "1 / / / / \r\n",
    "2 / / / / \r\n",
    "3 / / / / \r\n",
    "4 / / / / \r\n",
    "5 / / / / \r\n",
    "Para esse exercício, precisamos lembrar que o comando print implicitamente adiciona uma quebra de linha ao final da impressão. Podemos interferir no final da impressão adicionando mais uma entrada ao print. No exemplo, finalizamos cada linha com um espaço em branco:\r\n",
    "\r\n",
    "print(\"Texto qualquer\", end = \" \")"
   ]
  },
  {
   "cell_type": "code",
   "execution_count": 4,
   "id": "c93abd93-36f9-4ca4-9072-be331a462aad",
   "metadata": {},
   "outputs": [
    {
     "name": "stdin",
     "output_type": "stream",
     "text": [
      "Digite o número de linhas (N):  1\n",
      "Digite o número de colunas (M):  1\n"
     ]
    },
    {
     "name": "stdout",
     "output_type": "stream",
     "text": [
      "  1 \n",
      "1 / \n"
     ]
    }
   ],
   "source": [
    "N = int(input(\"Digite o número de linhas (N): \"))\n",
    "M = int(input(\"Digite o número de colunas (M): \"))\n",
    "\n",
    "print(\" \", end=\" \")\n",
    "for col in range(1, M + 1):\n",
    "    print(col, end=\" \")\n",
    "print()\n",
    "\n",
    "for linha in range(1, N + 1):\n",
    "    print(linha, end=\" \")\n",
    "    for col in range(1, M + 1):\n",
    "        print(\"/\", end=\" \")\n",
    "    print()"
   ]
  },
  {
   "cell_type": "markdown",
   "id": "3658657a-4845-45a9-8227-8c994e67e1b0",
   "metadata": {},
   "source": [
    "Break e Continue\r\n",
    "Q6.\r\n",
    "Escreva um programa que lê uma quantidade indefinida de valores e informa o maior e o menor valor digitados. A leitura é encerrada quando o usuário digitar o valor 0 (zero).\r\n",
    "\r\n",
    "Entrada:\r\n",
    "12\r\n",
    "-1\r\n",
    "29\r\n",
    "11\r\n",
    "-5\r\n",
    "0\r\n",
    "\r\n",
    "Saída:\r\n",
    "Maior: 29\r\n",
    "Menor: -5"
   ]
  },
  {
   "cell_type": "code",
   "execution_count": 5,
   "id": "17b80227-7eaa-4866-ab3d-b5d29ae2b99e",
   "metadata": {},
   "outputs": [
    {
     "name": "stdin",
     "output_type": "stream",
     "text": [
      "Digite um valor diferente de 0:  5\n",
      "Digite um novo para continuar ou 0 para sair! 4\n",
      "Digite um novo para continuar ou 0 para sair! 4\n",
      "Digite um novo para continuar ou 0 para sair! 0\n"
     ]
    },
    {
     "name": "stdout",
     "output_type": "stream",
     "text": [
      "Saída:\n",
      "Maior: 5\n",
      "Menor: 4\n"
     ]
    }
   ],
   "source": [
    "n=int(input(\"Digite um valor diferente de 0: \"))\n",
    "maior,menor= n, n\n",
    "\n",
    "while n != 0:\n",
    "    n=int(input('Digite um novo para continuar ou 0 para sair!'))\n",
    "    if n > maior:\n",
    "        maior = n\n",
    "    elif n < menor and n != 0:\n",
    "        menor = n\n",
    "    elif n==0:\n",
    "        break\n",
    "\n",
    "print(f'Saída:\\nMaior: {maior}\\nMenor: {menor}')"
   ]
  },
  {
   "cell_type": "markdown",
   "id": "b71ea544-3dda-4ee1-833f-261ed74ab56c",
   "metadata": {},
   "source": [
    "Q7.\r\n",
    "Escreva um programa que lê uma quantidade indefinida de valores e informa o produto dos valores positivos digitados. A leitura é encerrada quando o usuário digitar o valor 0 (zero).\r\n",
    "\r\n",
    "Entrada:\r\n",
    "2\r\n",
    "-1\r\n",
    "1\r\n",
    "3\r\n",
    "-5\r\n",
    "0\r\n",
    "\r\n",
    "Saída:\r\n",
    "Produto: 6"
   ]
  },
  {
   "cell_type": "code",
   "execution_count": 6,
   "id": "7bbf8c42-2bbd-41c4-9c4f-a16393021998",
   "metadata": {},
   "outputs": [
    {
     "name": "stdin",
     "output_type": "stream",
     "text": [
      "Digite um valor para continuar ou 0 para sair! 2\n",
      "Digite um valor para continuar ou 0 para sair! 2\n",
      "Digite um valor para continuar ou 0 para sair! \n"
     ]
    },
    {
     "ename": "ValueError",
     "evalue": "invalid literal for int() with base 10: ''",
     "output_type": "error",
     "traceback": [
      "\u001b[1;31m---------------------------------------------------------------------------\u001b[0m",
      "\u001b[1;31mValueError\u001b[0m                                Traceback (most recent call last)",
      "Cell \u001b[1;32mIn[6], line 4\u001b[0m\n\u001b[0;32m      1\u001b[0m produto\u001b[38;5;241m=\u001b[39m\u001b[38;5;241m1\u001b[39m\n\u001b[0;32m      3\u001b[0m \u001b[38;5;28;01mwhile\u001b[39;00m \u001b[38;5;28;01mTrue\u001b[39;00m:\n\u001b[1;32m----> 4\u001b[0m     n\u001b[38;5;241m=\u001b[39m\u001b[38;5;28mint\u001b[39m(\u001b[38;5;28minput\u001b[39m(\u001b[38;5;124m'\u001b[39m\u001b[38;5;124mDigite um valor para continuar ou 0 para sair!\u001b[39m\u001b[38;5;124m'\u001b[39m))\n\u001b[0;32m      5\u001b[0m     \u001b[38;5;28;01mif\u001b[39;00m n \u001b[38;5;241m>\u001b[39m \u001b[38;5;241m0\u001b[39m:\n\u001b[0;32m      6\u001b[0m         produto \u001b[38;5;241m*\u001b[39m\u001b[38;5;241m=\u001b[39m n\n",
      "\u001b[1;31mValueError\u001b[0m: invalid literal for int() with base 10: ''"
     ]
    }
   ],
   "source": [
    "produto=1\n",
    "\n",
    "while True:\n",
    "    n=int(input('Digite um valor para continuar ou 0 para sair!'))\n",
    "    if n > 0:\n",
    "        produto *= n\n",
    "    elif n == 0:\n",
    "        break\n",
    "print(f'Saída: \\nProduto: {produto}')"
   ]
  },
  {
   "cell_type": "markdown",
   "id": "249d3510-07f6-4ded-8ae9-b065ac71e1ee",
   "metadata": {},
   "source": [
    "Q8.\r\n",
    "Vamos fazer uma calculadora que aceita expressões aritméticas de qualquer tamanho até que o usuário digite a palavra \"Fim\". Sua calculadora executa apenas as operações \"+\", \"-\".\r\n",
    "\r\n",
    "Entrada:\r\n",
    "5\r\n",
    "+\r\n",
    "8\r\n",
    "-\r\n",
    "3\r\n",
    "+\r\n",
    "2\r\n",
    "Fim\r\n",
    "\r\n",
    "Saída:\r\n",
    "12"
   ]
  },
  {
   "cell_type": "code",
   "execution_count": null,
   "id": "cb664acb-f73f-4c16-8852-c2e4069e7626",
   "metadata": {},
   "outputs": [
    {
     "name": "stdin",
     "output_type": "stream",
     "text": [
      "Digite o 1° numero:  1\n",
      "Escolha uma operação: +, -, *,**, / ou Fim para sair!  -\n",
      "Digite o {i}° numero:  2\n",
      "Escolha uma operação: +, -, *,**, / ou Fim para sair!  +\n",
      "Digite o {i}° numero:  2\n"
     ]
    }
   ],
   "source": [
    "n1 = int(input(\"Digite o 1° numero: \"))\n",
    "i = 1\n",
    "\n",
    "while True:\n",
    "    op = input(\"Escolha uma operação: +, -, *,**, / ou Fim para sair! \")\n",
    "    if op == \"Fim\":\n",
    "        break\n",
    "    n2 = int(input(\"Digite o {i}° numero: \")) \n",
    "    i+=1\n",
    "\n",
    "    if op == \"+\":\n",
    "        n1 += n2\n",
    "    elif op == \"-\":\n",
    "        n1 -= n2\n",
    "    elif op == \"*\":\n",
    "        n1 *= n2\n",
    "    elif op == \"**\":\n",
    "        n1 **= n2\n",
    "    elif op == \"/\":\n",
    "        n1 /= n2\n",
    "\n",
    "print(f'Saída: {n1}')"
   ]
  },
  {
   "cell_type": "code",
   "execution_count": null,
   "id": "3586a40f-620f-43f9-acda-619fb7e62d4c",
   "metadata": {},
   "outputs": [],
   "source": []
  }
 ],
 "metadata": {
  "kernelspec": {
   "display_name": "Python 3 (ipykernel)",
   "language": "python",
   "name": "python3"
  },
  "language_info": {
   "codemirror_mode": {
    "name": "ipython",
    "version": 3
   },
   "file_extension": ".py",
   "mimetype": "text/x-python",
   "name": "python",
   "nbconvert_exporter": "python",
   "pygments_lexer": "ipython3",
   "version": "3.11.7"
  }
 },
 "nbformat": 4,
 "nbformat_minor": 5
}
