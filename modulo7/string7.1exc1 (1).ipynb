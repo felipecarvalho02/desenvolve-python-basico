{
 "cells": [
  {
   "cell_type": "markdown",
   "id": "b88efddf-3e81-45c1-ab7d-7c2bddcca5a5",
   "metadata": {},
   "source": [
    "Implemente um codigo que leia uma string do usuario e imprima quantas vogais\n",
    "existem na frase e quais os seus indices da string\n",
    "\n",
    "EX: \"O meu amor mora em Roma e me deu um ramo de flores\"\n",
    "\n",
    "Dica: letra in \"aeiou\""
   ]
  },
  {
   "cell_type": "code",
   "execution_count": 4,
   "id": "23baa210-3c35-43e3-9cce-52e732058b63",
   "metadata": {},
   "outputs": [
    {
     "name": "stdout",
     "output_type": "stream",
     "text": [
      "20\n",
      "[0, 3, 4, 6, 8, 12, 14, 16, 20, 22, 24, 27, 30, 31, 33, 37, 39, 42, 46, 48]\n"
     ]
    }
   ],
   "source": [
    "frase = \"O meu amor mora em Roma e me deu um ramo de flores\"\n",
    "\n",
    "count_vogais = 0\n",
    "indices = []\n",
    "for i in range(len(frase)):\n",
    "    if frase[i].lower() in \"aeiou\":\n",
    "        count_vogais += 1\n",
    "        indices.append(i)\n",
    "print(count_vogais)\n",
    "print(indices)"
   ]
  },
  {
   "cell_type": "code",
   "execution_count": null,
   "id": "d10be356-4658-4590-9a9f-030022730c27",
   "metadata": {},
   "outputs": [],
   "source": []
  }
 ],
 "metadata": {
  "kernelspec": {
   "display_name": "Python 3 (ipykernel)",
   "language": "python",
   "name": "python3"
  },
  "language_info": {
   "codemirror_mode": {
    "name": "ipython",
    "version": 3
   },
   "file_extension": ".py",
   "mimetype": "text/x-python",
   "name": "python",
   "nbconvert_exporter": "python",
   "pygments_lexer": "ipython3",
   "version": "3.11.7"
  }
 },
 "nbformat": 4,
 "nbformat_minor": 5
}
