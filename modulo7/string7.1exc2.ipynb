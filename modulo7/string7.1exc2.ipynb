{
 "cells": [
  {
   "cell_type": "markdown",
   "id": "3546fc5a-a78d-471b-be63-f36ceb16a3e4",
   "metadata": {},
   "source": [
    "Dada uma string e uma palavra objetivo, encontre todas as palavras Anagrams\n",
    "são palavras com os mesmos caracteres rearranjados\n",
    "\n",
    "frase = \"O meu amor mora em Roma e me deu um ramo de flores\"\n",
    "palavra = \"amor\""
   ]
  },
  {
   "cell_type": "code",
   "execution_count": 9,
   "id": "2966442b-1607-46bb-bb49-57074be2c589",
   "metadata": {},
   "outputs": [
    {
     "ename": "SyntaxError",
     "evalue": "invalid syntax (2414127627.py, line 6)",
     "output_type": "error",
     "traceback": [
      "\u001b[1;36m  Cell \u001b[1;32mIn[9], line 6\u001b[1;36m\u001b[0m\n\u001b[1;33m    sorted(palavra) == objetivo:\u001b[0m\n\u001b[1;37m                               ^\u001b[0m\n\u001b[1;31mSyntaxError\u001b[0m\u001b[1;31m:\u001b[0m invalid syntax\n"
     ]
    }
   ],
   "source": [
    "frase = \"O meu amor mora em Roma e me deu um ramo de flores\"\n",
    "objetivo = sorted(\"amor\")\n",
    "\n",
    "lst_palavras = frase.lower().split(\" \")\n",
    "for palavra in lst_palavras:\n",
    "    sorted(palavra) == objetivo:\n",
    "        print(palavra)\n",
    "    \n",
    "    "
   ]
  },
  {
   "cell_type": "code",
   "execution_count": 8,
   "id": "a72e051e-cc47-4f24-9d84-e702a75c87e3",
   "metadata": {},
   "outputs": [
    {
     "data": {
      "text/plain": [
       "['a', 'm', 'o', 'r']"
      ]
     },
     "execution_count": 8,
     "metadata": {},
     "output_type": "execute_result"
    }
   ],
   "source": [
    "sorted(\"roma\")"
   ]
  },
  {
   "cell_type": "code",
   "execution_count": null,
   "id": "2679f66b-8a25-4e0d-9a2e-21585bcd6b19",
   "metadata": {},
   "outputs": [],
   "source": []
  },
  {
   "cell_type": "code",
   "execution_count": null,
   "id": "6a1a7cce-3efc-4624-9c15-423494609b63",
   "metadata": {},
   "outputs": [],
   "source": []
  },
  {
   "cell_type": "code",
   "execution_count": null,
   "id": "4363a8ee-6708-4f82-9635-9cb784df15d3",
   "metadata": {},
   "outputs": [],
   "source": []
  }
 ],
 "metadata": {
  "kernelspec": {
   "display_name": "Python 3 (ipykernel)",
   "language": "python",
   "name": "python3"
  },
  "language_info": {
   "codemirror_mode": {
    "name": "ipython",
    "version": 3
   },
   "file_extension": ".py",
   "mimetype": "text/x-python",
   "name": "python",
   "nbconvert_exporter": "python",
   "pygments_lexer": "ipython3",
   "version": "3.11.7"
  }
 },
 "nbformat": 4,
 "nbformat_minor": 5
}
