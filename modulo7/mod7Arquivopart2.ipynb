{
 "cells": [
  {
   "cell_type": "markdown",
   "id": "866c99bb-f1a4-49ab-bf12-e618161a5972",
   "metadata": {},
   "source": [
    "Crie um istema simples de cadastro e validação de usuarios. Para isso, você vai gerenciar o\n",
    "arquivo 'usuarios.txt'. Seu sistema deve:\n",
    "\n",
    ". Cadastrar novos usuarios: verifica se o nome de usuario já existe no arquivo, em caso\n",
    "positivo um novo nome de usuario, em caso negativo, registra o nome em arquivo.\n",
    ". Fazer login: solicita o nome de usuario, caso ele exista em arquivo, imprime \"login efetuado com sucesso\",\n",
    "caso contrario imprime \"nome de usuario incorreto\"."
   ]
  },
  {
   "cell_type": "code",
   "execution_count": null,
   "id": "606ad828-81ea-4eee-ac4e-15db325e217b",
   "metadata": {},
   "outputs": [],
   "source": []
  },
  {
   "cell_type": "code",
   "execution_count": 12,
   "id": "272ee6e4-1ed0-4e8f-b2c5-580d845039a0",
   "metadata": {},
   "outputs": [
    {
     "ename": "IndentationError",
     "evalue": "unindent does not match any outer indentation level (<tokenize>, line 22)",
     "output_type": "error",
     "traceback": [
      "\u001b[1;36m  File \u001b[1;32m<tokenize>:22\u001b[1;36m\u001b[0m\n\u001b[1;33m    def fazer_login():\u001b[0m\n\u001b[1;37m    ^\u001b[0m\n\u001b[1;31mIndentationError\u001b[0m\u001b[1;31m:\u001b[0m unindent does not match any outer indentation level\n"
     ]
    }
   ],
   "source": [
    "nome_arquivo = \"usuarios.txt\"\n",
    "#retorna verdadeiro se o usuario existe no arquivo\n",
    "# e falso caso contrario\n",
    "def verifica_usuario(usuario):\n",
    "    with open(nome_arquivo, 'a+') as fp:\n",
    "        for linha in fp:\n",
    "            if nome_usuario == linha[:-1]:\n",
    "                return True\n",
    "            return False\n",
    "\n",
    "def cadastrar_usuario():\n",
    "    nome_usuario = input('Digite seu novo usuario:  ')\n",
    "\n",
    "    if verifica_usuario:\n",
    "        print('Usuario já existe! Cadastro não realizado')\n",
    "    else:\n",
    "        fp = open(nome_arquivo, 'a')\n",
    "        fp.write(nome_usuario+'\\n')\n",
    "        fp.close()\n",
    "        print('Cadastro realizado com sucesso!')\n",
    "\n",
    "   def fazer_login():\n",
    "    nome_usuario = input('Digite seu novo usuario:  ')\n",
    "    if verifica_usuario:\n",
    "        print('Login realizado com sucesso!')\n",
    "    else:\n",
    "        print(\"Usuario incorreto')"
   ]
  },
  {
   "cell_type": "code",
   "execution_count": null,
   "id": "7b71bc2a-52c5-49ec-898d-8ae95fe18a57",
   "metadata": {},
   "outputs": [
    {
     "name": "stdout",
     "output_type": "stream",
     "text": [
      "1-Cadastrar\n",
      "2-Login\n",
      "3-Sair\n"
     ]
    }
   ],
   "source": [
    "# programa principal\n",
    "\n",
    "nome_arquivo = \"usuarios.txt\"\n",
    "\n",
    "while True:\n",
    "    print('1-Cadastrar\\n2-Login\\n3-Sair')\n",
    "    op = int(input('Escolha uma opção'))\n",
    "   \n",
    "    if op == 1:\n",
    "        cadstrar_usuario()\n",
    "    elif op == 2:\n",
    "        fazer_login()\n",
    "    elif op == 3:\n",
    "        break\n",
    "    else:\n",
    "        print('Opção invalida')\n",
    "        print('_'*15)"
   ]
  },
  {
   "cell_type": "code",
   "execution_count": null,
   "id": "5e958882-5824-4482-a911-bd18b9fee3cd",
   "metadata": {},
   "outputs": [],
   "source": []
  }
 ],
 "metadata": {
  "kernelspec": {
   "display_name": "Python 3 (ipykernel)",
   "language": "python",
   "name": "python3"
  },
  "language_info": {
   "codemirror_mode": {
    "name": "ipython",
    "version": 3
   },
   "file_extension": ".py",
   "mimetype": "text/x-python",
   "name": "python",
   "nbconvert_exporter": "python",
   "pygments_lexer": "ipython3",
   "version": "3.11.7"
  }
 },
 "nbformat": 4,
 "nbformat_minor": 5
}
