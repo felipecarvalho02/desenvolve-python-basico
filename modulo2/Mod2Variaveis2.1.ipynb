{
 "cells": [
  {
   "cell_type": "markdown",
   "id": "5556dc54-e967-4318-a2ef-af8e60285365",
   "metadata": {},
   "source": [
    "Módulo 2\r\n",
    "2.1 Variáveis\r\n",
    "Q1.\r\n",
    "Selecione todos os itens a seguir que contém nomes válidos de variáveis. Lembre-se que alguns nomes com estrutura válida são palavras reservadas da linguagem e portanto não podem nomear variáveis.\r\n",
    "\r\n",
    "a) nome_completo \r\n",
    "b) quantidade@produtos\t\r\n",
    "c) idade\t\r\n",
    "d) soma idades \r\n",
    "e) MediaNotas\r\n",
    "f) _tipo\r\n",
    "g) 2total\r\n",
    "h) lambda"
   ]
  },
  {
   "cell_type": "code",
   "execution_count": 1,
   "id": "4a5199a6-1ebc-49ab-a594-a89006e8dd4d",
   "metadata": {},
   "outputs": [
    {
     "name": "stdout",
     "output_type": "stream",
     "text": [
      "a c d e f\n"
     ]
    }
   ],
   "source": [
    "print(\"a c d e f\")"
   ]
  },
  {
   "cell_type": "markdown",
   "id": "dc094b2e-aaef-4d19-9920-fa602fca3815",
   "metadata": {},
   "source": [
    "Q2.\r\n",
    "Dados os scripts a seguir, faça:\r\n",
    "\r\n",
    "Para os scripts corretos escreva o resultado impresso ao final da execução\r\n",
    "Para os incorretos descreva todos os erros identificados apontando a linha onde cada erro acontece."
   ]
  },
  {
   "cell_type": "code",
   "execution_count": 2,
   "id": "f69c7ce2-aaf0-4ff7-8929-dec8c935f7a0",
   "metadata": {},
   "outputs": [
    {
     "name": "stdout",
     "output_type": "stream",
     "text": [
      "7\n"
     ]
    }
   ],
   "source": [
    "#  Script 1\n",
    "x = 10\n",
    "y = x + 2\n",
    "print(y - 5)"
   ]
  },
  {
   "cell_type": "code",
   "execution_count": 5,
   "id": "edd65360-565c-434d-81f2-f68ff987ff9b",
   "metadata": {},
   "outputs": [
    {
     "ename": "NameError",
     "evalue": "name 'n1' is not defined",
     "output_type": "error",
     "traceback": [
      "\u001b[1;31m---------------------------------------------------------------------------\u001b[0m",
      "\u001b[1;31mNameError\u001b[0m                                 Traceback (most recent call last)",
      "Cell \u001b[1;32mIn[5], line 2\u001b[0m\n\u001b[0;32m      1\u001b[0m \u001b[38;5;66;03m# Script 2\u001b[39;00m\n\u001b[1;32m----> 2\u001b[0m soma \u001b[38;5;241m=\u001b[39m n1 \u001b[38;5;241m+\u001b[39m n2\n\u001b[0;32m      3\u001b[0m \u001b[38;5;28mprint\u001b[39m(soma)\n\u001b[0;32m      5\u001b[0m \u001b[38;5;28mprint\u001b[39m(\u001b[38;5;124m\"\u001b[39m\u001b[38;5;124mLinha 1: Erro variaveis n1 e n2 não foram declaradas\u001b[39m\u001b[38;5;124m\"\u001b[39m)\n",
      "\u001b[1;31mNameError\u001b[0m: name 'n1' is not defined"
     ]
    }
   ],
   "source": [
    "# Script 2\n",
    "soma = n1 + n2\n",
    "print(soma)\n",
    "\n",
    "print(\"Linha 1: Erro variaveis n1 e n2 não foram declaradas\")"
   ]
  },
  {
   "cell_type": "code",
   "execution_count": 4,
   "id": "d11358da-4860-45f3-893f-3e8a900dc56a",
   "metadata": {},
   "outputs": [
    {
     "name": "stdout",
     "output_type": "stream",
     "text": [
      "11\n"
     ]
    }
   ],
   "source": [
    "# Script 3\n",
    "a = 10\n",
    "a = a + 1\n",
    "print(a)"
   ]
  },
  {
   "cell_type": "markdown",
   "id": "fe7ec03d-9e85-4afd-91a9-86920f23cf55",
   "metadata": {},
   "source": [
    "# Script 4\n",
    "saldo da conta = 1500\n",
    "0.1 = juros\n",
    "print(saldo da conta * juros)"
   ]
  },
  {
   "cell_type": "code",
   "execution_count": null,
   "id": "777d22d4-6a7d-46d8-90d0-835f6c496b14",
   "metadata": {},
   "outputs": [],
   "source": [
    "# preencha o print com sua resposta\n",
    "print(\"Linha 2: Erro juros está do lado errado da igualdade\")"
   ]
  },
  {
   "cell_type": "markdown",
   "id": "9774e8dd-871e-4d0b-9c17-b76af8e7db2e",
   "metadata": {},
   "source": [
    "\r\n",
    "stQ3.\r\n",
    "Declare três variáveis, num1, num2 e num3, com valores inteiros numéricos de sua escolha. Calcule e imprima a média desses três números. Utilize a fórmula: (num1 + num2 + num3) / 3."
   ]
  },
  {
   "cell_type": "code",
   "execution_count": 7,
   "id": "9388532f-fcf0-4cf9-8467-fcd6bad47660",
   "metadata": {},
   "outputs": [
    {
     "name": "stdout",
     "output_type": "stream",
     "text": [
      "6.666666666666667\n"
     ]
    }
   ],
   "source": [
    "## Escreva e execute seu código aqui\n",
    "num1 = 10\n",
    "num2 = 4\n",
    "num3 = 6\n",
    "print((num1+num2+num3)/3)"
   ]
  },
  {
   "cell_type": "markdown",
   "id": "55a8518e-955a-445a-9946-c7eaa734f5b7",
   "metadata": {},
   "source": []
  }
 ],
 "metadata": {
  "kernelspec": {
   "display_name": "Python 3 (ipykernel)",
   "language": "python",
   "name": "python3"
  },
  "language_info": {
   "codemirror_mode": {
    "name": "ipython",
    "version": 3
   },
   "file_extension": ".py",
   "mimetype": "text/x-python",
   "name": "python",
   "nbconvert_exporter": "python",
   "pygments_lexer": "ipython3",
   "version": "3.11.7"
  }
 },
 "nbformat": 4,
 "nbformat_minor": 5
}
