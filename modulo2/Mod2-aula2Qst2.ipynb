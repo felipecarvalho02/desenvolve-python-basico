{
 "cells": [
  {
   "cell_type": "code",
   "execution_count": 1,
   "id": "29fcfe42-ce4d-4c12-a71f-f5930efb8460",
   "metadata": {},
   "outputs": [
    {
     "name": "stdout",
     "output_type": "stream",
     "text": [
      "O resultado é:   10  3.5  13.5\n",
      "Tipo da variavel text: <class 'str'> \n",
      "Tipo da variavel valor1: <class 'int'>\n",
      "Tipo da variavel valor2: <class 'float'>\n",
      "Tipo da variavel valor3: <class 'float'>\n"
     ]
    }
   ],
   "source": [
    "text = \"O resultado é: \"\n",
    "valor1 = 10\n",
    "valor2 = 3.5\n",
    "valor3 = valor1+valor2\n",
    "\n",
    "#todas as variáveis na ordem de criação\n",
    "print (f'{text}  {valor1}  {valor2}  {valor3}')\n",
    "\n",
    "#seus tipos.\n",
    "print (f'Tipo da variavel text: {type(text)} \\nTipo da variavel valor1: {type(valor1)}\\nTipo da variavel valor2: {type(valor2)}\\nTipo da variavel valor3: {type(valor3)}')"
   ]
  },
  {
   "cell_type": "code",
   "execution_count": null,
   "id": "a14440d6-ee37-487a-99a8-fa06c258f4f1",
   "metadata": {},
   "outputs": [],
   "source": []
  }
 ],
 "metadata": {
  "kernelspec": {
   "display_name": "Python 3 (ipykernel)",
   "language": "python",
   "name": "python3"
  },
  "language_info": {
   "codemirror_mode": {
    "name": "ipython",
    "version": 3
   },
   "file_extension": ".py",
   "mimetype": "text/x-python",
   "name": "python",
   "nbconvert_exporter": "python",
   "pygments_lexer": "ipython3",
   "version": "3.11.7"
  }
 },
 "nbformat": 4,
 "nbformat_minor": 5
}
