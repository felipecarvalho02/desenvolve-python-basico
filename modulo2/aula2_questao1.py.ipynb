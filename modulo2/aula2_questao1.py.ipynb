{
 "cells": [
  {
   "cell_type": "markdown",
   "id": "66a610e8-1fb3-4381-8f3b-5914693aa2e0",
   "metadata": {},
   "source": [
    "1 - Armazene o valor 5 em uma variavel e o valor 2 em outra variavel \n",
    "\n",
    "2 - Imprima o tipo de dados dessas duas variaveis \n",
    "\n",
    "3 - Usando as variaveis, divida o valor 5 pelo valor 2  e armazene em uma terceira variavel\n",
    "\n",
    "4 - Imprima a terceira variavel e tambem o seu tipo"
   ]
  },
  {
   "cell_type": "markdown",
   "id": "b25c1bbe-17f2-4c16-9363-666b4f8ed383",
   "metadata": {},
   "source": [
    "1 - Armazene o valor 5 em uma variavel e o valor 2 em outra variavel \n",
    "\n",
    "2 - Imprima o tipo de dados dessas duas variaveis \n",
    "\n",
    "3 - Usando as variaveis, divida o valor 5 pelo valor 2  e armazene em uma terceira variavel\n",
    "\n",
    "4 - Imprima a terceira variavel e tambem o seu tipo"
   ]
  },
  {
   "cell_type": "code",
   "execution_count": 3,
   "id": "ba280db1-8abd-4bae-9b2a-7da7e1e9014c",
   "metadata": {},
   "outputs": [
    {
     "name": "stdout",
     "output_type": "stream",
     "text": [
      "<class 'int'>\n",
      "<class 'int'>\n"
     ]
    }
   ],
   "source": [
    "v1 = 5\n",
    "v2 = 2\n",
    "print (type(v1))\n",
    "print(type(v2))"
   ]
  },
  {
   "cell_type": "code",
   "execution_count": 4,
   "id": "c7053622-4ed3-4851-ac6a-3d7b8b61668f",
   "metadata": {},
   "outputs": [
    {
     "name": "stdout",
     "output_type": "stream",
     "text": [
      "2.5\n",
      "<class 'float'>\n"
     ]
    }
   ],
   "source": [
    "divisao = v1 / v2\n",
    "print(divisao)\n",
    "print(type(divisao))"
   ]
  },
  {
   "cell_type": "code",
   "execution_count": null,
   "id": "a17693ca-b910-48aa-be42-a7f40254c3dc",
   "metadata": {},
   "outputs": [],
   "source": []
  }
 ],
 "metadata": {
  "kernelspec": {
   "display_name": "Python 3 (ipykernel)",
   "language": "python",
   "name": "python3"
  },
  "language_info": {
   "codemirror_mode": {
    "name": "ipython",
    "version": 3
   },
   "file_extension": ".py",
   "mimetype": "text/x-python",
   "name": "python",
   "nbconvert_exporter": "python",
   "pygments_lexer": "ipython3",
   "version": "3.11.7"
  }
 },
 "nbformat": 4,
 "nbformat_minor": 5
}
