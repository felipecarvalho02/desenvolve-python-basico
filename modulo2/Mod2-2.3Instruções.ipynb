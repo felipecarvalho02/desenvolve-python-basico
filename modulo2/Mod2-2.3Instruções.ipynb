{
 "cells": [
  {
   "cell_type": "markdown",
   "id": "ca4890ff-3394-4be4-8955-fd9675932b3e",
   "metadata": {},
   "source": [
    "Módulo 2\r\n",
    "2.3 Instruções e Expressões\r\n",
    "Q1\r\n",
    "Faça um programa que armazene o valor de 20 reais de salário por hora de um trabalhador, e o número de 40 horas trabalhadas na semana. Com essas informações, calcule e imprima:\r\n",
    "\r\n",
    "Salário semanal bruto\r\n",
    "Valor descontado por semana INSS (10% do bruto)\r\n",
    "Valor descontado por semana pelo sindicato (5% do bruto)\r\n",
    "Salário semanal líquido (Bruto - Descontos)"
   ]
  },
  {
   "cell_type": "code",
   "execution_count": 1,
   "id": "25f88ada-5861-4a77-bca4-2c33d1cc5ef8",
   "metadata": {},
   "outputs": [
    {
     "name": "stdout",
     "output_type": "stream",
     "text": [
      "Salario Semanal Bruto: 800\n",
      "Desconto INSS: 80.0\n",
      "Desconto Sindicato: 40.0\n",
      "Salario Semanal Liquido: 680.0\n"
     ]
    }
   ],
   "source": [
    "salarioHora = 20\n",
    "jornadaDeTrabalho = 40\n",
    "\n",
    "salarioBruto = salarioHora * jornadaDeTrabalho\n",
    "descontoInss = (10 / 100) * salarioBruto\n",
    "descontoSindicato = (5 / 100) * salarioBruto\n",
    "salarioLiquido = salarioBruto - descontoInss - descontoSindicato\n",
    "\n",
    "print(f'Salario Semanal Bruto: {salarioBruto}\\nDesconto INSS: {descontoInss}\\nDesconto Sindicato: {descontoSindicato}\\nSalario Semanal Liquido: {salarioLiquido}')"
   ]
  },
  {
   "cell_type": "markdown",
   "id": "d7ad916c-f130-495b-b673-abc88923aa69",
   "metadata": {},
   "source": [
    "\r\n",
    "Uestão Q2\r\n",
    "Altere o programa anterior para a partir dos valores de horas trabalhadas por semana e salário por hora, calcular em somente duas instruções:\r\n",
    "\r\n",
    "Salário semanal bruto\r\n",
    "Salário semanal líquido com todos os descontos. Para a segunda instrução, realize todos os cálculos aritméticos em uma expressão composta."
   ]
  },
  {
   "cell_type": "code",
   "execution_count": 2,
   "id": "fb95f286-0714-4dbd-a8d8-00542116f02a",
   "metadata": {},
   "outputs": [
    {
     "name": "stdout",
     "output_type": "stream",
     "text": [
      "Salario Semanal Bruto: 800\n",
      "Salario Semanal Liquido: 680.0\n"
     ]
    }
   ],
   "source": [
    "salarioBruto = 20 * 40\n",
    "salarioLiquido = salarioBruto - (((10 / 100) * salarioBruto)+((5 / 100) * salarioBruto))\n",
    "\n",
    "print(f'Salario Semanal Bruto: {salarioBruto}\\nSalario Semanal Liquido: {salarioLiquido}')"
   ]
  },
  {
   "cell_type": "markdown",
   "id": "3b6e6c7f-8236-4ad9-a697-41b100ae55c9",
   "metadata": {},
   "source": [
    "Questão 3\r\n",
    "Você está desenvolvendo um software de conversão de moeda e precisa calcular o valor equivalente em yuan chinês a partir de uma quantia em real. A taxa de câmbio é de 0.69 BRL (real) para 1 CNY (yuan). Escreva um programa que define em uma variável uma quantia em reais (BRL) e calcula o valor equivalente em yuan (CNY). Imprima o resultado."
   ]
  },
  {
   "cell_type": "code",
   "execution_count": 3,
   "id": "e57c2bb6-ce51-4dec-9ab6-45240cabc38e",
   "metadata": {},
   "outputs": [
    {
     "name": "stdout",
     "output_type": "stream",
     "text": [
      "500 BRL equivale a 724.64 CNY\n"
     ]
    }
   ],
   "source": [
    "saldoReais = 500\n",
    "saldoYuan = saldoReais / 0.69\n",
    "\n",
    "print(f'{saldoReais} BRL equivale a {round(saldoYuan,2)} CNY')"
   ]
  },
  {
   "cell_type": "markdown",
   "id": "226afc5f-9829-4d5b-8416-de5fb7a0c954",
   "metadata": {},
   "source": [
    "\r\n",
    "Q4\r\n",
    "Você é um treinador de corrida e deseja calcular a velocidade média que um atleta precisa manter para completar a Maratona Internacional de São Silvestre, que tem uma distância total de 42.195 km. A fórmula para calcular a velocidade médiav_media (\r\n",
    ") é dada pv_media = distancia/tempoor \r\n",
    " \r\n",
    " . Escreva um programa em Python para calcular a velocidade média necessária para completar a maratona em 3 horas.\r\n",
    "\r\n",
    "Calcule e imprima o resultado em metros/segundo, ou seja, converta a distância de quilômetros para mmetro = km/1000)etrsegundo= hora/3600os (\r\n",
    " \r\n",
    ") e a velocidade de horas para segundos \r\n",
    " \r\n",
    "."
   ]
  },
  {
   "cell_type": "code",
   "execution_count": 4,
   "id": "ee5203a9-7717-419d-a36f-cf2b509fa00c",
   "metadata": {},
   "outputs": [
    {
     "name": "stdout",
     "output_type": "stream",
     "text": [
      "A velocidade media necessaria para completar a corrida em 3 horas é de: 3.91 M/s\n"
     ]
    }
   ],
   "source": [
    "distanciaEmMetros = 42.195 * 1000\n",
    "tempoEmSegundos = 3 * 3600\n",
    "\n",
    "velocidadeMeida = distanciaEmMetros / tempoEmSegundos\n",
    "\n",
    "print (f'A velocidade media necessaria para completar a corrida em 3 horas é de: {round(velocidadeMeida,2)} M/s')"
   ]
  },
  {
   "cell_type": "code",
   "execution_count": null,
   "id": "8f143e07-7fc9-465f-a088-6c518e327bc7",
   "metadata": {},
   "outputs": [],
   "source": []
  }
 ],
 "metadata": {
  "kernelspec": {
   "display_name": "Python 3 (ipykernel)",
   "language": "python",
   "name": "python3"
  },
  "language_info": {
   "codemirror_mode": {
    "name": "ipython",
    "version": 3
   },
   "file_extension": ".py",
   "mimetype": "text/x-python",
   "name": "python",
   "nbconvert_exporter": "python",
   "pygments_lexer": "ipython3",
   "version": "3.11.7"
  }
 },
 "nbformat": 4,
 "nbformat_minor": 5
}
